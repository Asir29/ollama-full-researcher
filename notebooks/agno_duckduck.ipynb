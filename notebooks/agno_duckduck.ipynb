{
 "cells": [
  {
   "cell_type": "code",
   "execution_count": 1,
   "metadata": {},
   "outputs": [],
   "source": [
    "from agno.agent import Agent\n",
    "from agno.tools.duckduckgo import DuckDuckGoTools\n",
    "from agno.models.ollama import Ollama\n",
    "from agno.tools.arxiv import ArxivTools\n",
    "from assistant.configuration import Configuration\n",
    "from assistant.prompts import web_search_instructions, web_search_description, web_search_expected_output\n"
   ]
  },
  {
   "cell_type": "code",
   "execution_count": 2,
   "metadata": {},
   "outputs": [],
   "source": [
    "agent = Agent(\n",
    "        model=Ollama(id=\"mistral-nemo\"),\n",
    "        tools=[DuckDuckGoTools(fixed_max_results=3)],\n",
    "        show_tool_calls=False,\n",
    "\n",
    "    )"
   ]
  },
  {
   "cell_type": "code",
   "execution_count": null,
   "metadata": {},
   "outputs": [],
   "source": [
    "run_response = agent.run(\"search for : Intel Loihi 2. \\n\"+ web_search_expected_output)"
   ]
  },
  {
   "cell_type": "code",
   "execution_count": 4,
   "metadata": {},
   "outputs": [
    {
     "name": "stdout",
     "output_type": "stream",
     "text": [
      "Here is the search result in the requested JSON format:\n",
      "\n",
      "```json\n",
      "{\n",
      "  \"results\": [\n",
      "    {\n",
      "      \"title\": \"Neuromorphic Computing and Engineering with AI | Intel®\",\n",
      "      \"url\": \"https://www.intel.com/content/www/us/en/research/neuromorphic-computing.html\",\n",
      "      \"content\": \"Loihi 2, Intel Lab's second-generation neuromorphic processor, outperforms its predecessor with up to 10x faster processing capability. It comes with Lava, an open-source software framework that supports multiple AI methods and hardware for developing neuro-inspired applications.\",\n",
      "      \"raw_content\": \"<p>Neuromorphic computing has the potential to revolutionize the way we approach artificial intelligence (AI) by mimicking the structure and function of biological neural systems.</p>\\n<p>At Intel, we’re working on neuromorphic technology that could enable more efficient, flexible, and adaptable AI applications. Our latest development is Loihi 2, a second-generation neuromorphic processor designed to enhance performance while reducing power consumption.</p>\\n<p><strong>Loihi 2: Advancing Neuromorphic Computing</strong></p>\\n<ul>\\n\\t<li><strong>Up to 10x faster processing capability than its predecessor.</strong></li>\\n\\t<li><strong>Optimized for low-power operation.</strong></li>\\n\\t<li><strong>Supports multiple AI methods and hardware with the open-source Lava software framework.</strong></li>\\n</ul>\"\n",
      "    },\n",
      "    {\n",
      "      \"title\": \"Next-Level Neuromorphic Computing: Intel Lab's Loihi 2 Chip\",\n",
      "      \"url\": \"https://www.intel.com/content/www/us/en/research/neuromorphic-computing-loihi-2-technology-brief.html\",\n",
      "      \"content\": \"Intel Lab's new Loihi 2 chip outperforms its predecessor by up to 10x and comes with an open-source, community-driven neuromorphic computing framework called Lava Download PDF. Download PDF. Related Videos. Show more Show less. Related Materials. Get Help. Company Overview ...\",\n",
      "      \"raw_content\": \"<h2>Next-Level Neuromorphic Computing</h2>\\n<p>Intel Labs has developed Loihi 2, a next-generation neuromorphic chip that delivers significant improvements in performance and power efficiency compared to its predecessor.</p>\\n<h3>Key Features of the Loihi 2 Chip</h3>\\n<ul>\\n\\t<li><strong>Up to 10x faster processing capability than Loihi 1.</strong></li>\\n\\t<li><strong>Enhanced energy efficiency, enabling longer battery life for edge devices.</strong></li>\\n\\t<li><strong>Open-source Lava software framework for neuromorphic computing, facilitating collaboration and innovation.</strong></li>\\n</ul>\\n<p><a href=\\\"https://www.intel.com/content/dam/developer/us/en/pdfs/technology-briefs/intel-labs-loihi-2-technology-brief.pdf\\\" target=\\\"_blank\\\">Download the Intel Labs Loihi 2 Technology Brief PDF</a></p>\\n<div class=\\\"video-container\\\">\\n\\t<iframe src=\\\"https://www.youtube.com/embed/XXX\\\" width=\\\"560\\\" height=\\\"315\\\" frameborder=\\\"0\\\" allowfullscreen></iframe>\\n</div>\\n<div class=\\\"related-materials\\\">\\n\\t<h3>Related Materials</h3>\\n\\t<ul>\\n\\t\\t<li><a href=\\\"https://www.intel.com/content/www/us/en/research/neuromorphic-computing.html\\\">Neuromorphic Computing and Engineering with AI | Intel®</a></li>\\n\\t\\t<li><a href=\\\"https://open-neuromorphic.org/\\\">Open Neuromorphic: Enabling Neuromorphic Computing Together</a></li>\\n\\t\\t<li><a href=\\\"https://www.intel.com/content/www/us/en/research/contact-us.html\\\">Get Help | Intel® Research</a></li>\\n\\t\\t<li><a href=\\\"https://www.intel.com/content/www/us/en/about/intel-overview.html\\\">Company Overview | Intel®</a></li>\\n\\t\\t<li><a href=\\\"#\\\">Show More Results</a></li>\\n\\t</ul>\\n</div>\"\n",
      "    },\n",
      "    {\n",
      "      \"title\": \"A Look at Loihi 2 - Intel - Open Neuromorphic\",\n",
      "      \"url\": \"https://open-neuromorphic.org/neuromorphic-computing/hardware/loihi-2-intel/\",\n",
      "      \"content\": \"The Loihi 2 chip by Intel consists of 6 embedded microprocessor cores (Lakemont x86) and 128 fully asynchronous neuron cores (NCs) connected by a network-on-chip. The NCs are optimized for neuromorphic workloads by implementing a group of spiking neurons and including all synapses connected to such neurons.\",\n",
      "      \"raw_content\": \"<h1>Loihi 2</h1>\\n<p>The Loihi 2 chip is the latest development from Intel's Neuromorphic Computing research team, building on the success of its predecessor, <a href=\\\"/neuromorphic-computing/hardware/loihi/\\\">Loihi</a>.</p>\\n<h2>Key Features</h2>\\n<ul>\\n\\t<li><strong>6 embedded microprocessor cores (Lakemont x86)</strong>: Providing high-performance computing capabilities for tasks such as data preprocessing, model training, and host control.</li>\\n\\t<li><strong>128 fully asynchronous neuron cores (NCs)</strong>: Optimized for neuromorphic workloads, with each NC implementing a group of spiking neurons and including all synapses connected to such neurons. This enables efficient on-device learning and inference.</li>\\n\\t<li><strong>Network-on-chip</strong>: A high-bandwidth interconnect fabric enabling efficient communication between microprocessor cores, neuron cores, and external memory.</li>\\n</ul>\\n<p><img src=\\\"/wp-content/uploads/2021/05/loihi-2-diagram.png\\\" alt=\\\"Loihi 2 diagram\\\" /></p>\"\n",
      "    }\n",
      "  ]\n",
      "}\n",
      "```\n"
     ]
    }
   ],
   "source": [
    "print(run_response.content)"
   ]
  },
  {
   "cell_type": "code",
   "execution_count": 5,
   "metadata": {},
   "outputs": [],
   "source": [
    "content = run_response.content"
   ]
  },
  {
   "cell_type": "code",
   "execution_count": 1,
   "metadata": {},
   "outputs": [],
   "source": [
    "content = \"\"\"{\"results\":[{\"title\":\"RoboMaster Robotics Competition\",\"url\":\"https://www.robomaster.com/en-US\",\"content\":\"RoboMaster is an annual robotics competition for teams of aspiring engineers to design and build next-generation robots for completing difficult tasks and... \",\"raw_content\":\"<title>RoboMaster | Robotic Competition</title><meta content=\\\"RoboMaster is an annual robotics competition for teams of aspiring engineers to design and build next-generation robots for completing difficult tasks and\\u00a0...\"},{\"title\":\"RoboMaster Robotics Competition | Overview\",\"url\":\"https://www.robomaster.com/en-US/robo/overview\",\"content\":\"The RoboMaster University Championship (RMUC), which is the first PVP live-firing robotics competition in the world, was founded and organized by DJI. Since its... \",\"raw_content\":\"<title>RoboMaster Robotics Competition | Overview</title><meta content=\\\"The RoboMaster University Championship (RMUC), which is the first PVP live-firing robotics competition in the world, was founded and organized by DJI. Since its\\u00a0...\"},{\"title\":\"RoboMaster - Wikipedia\",\"url\":\"https://en.wikipedia.org/wiki/RoboMaster\",\"content\":\"RoboMaster is an annual intercollegiate robot competition held in Shenzhen, Guangdong, China. First started in 2015, it is the brainchild of DJI's founder... \",\"raw_content\":\"<title>RoboMaster - Wikipedia</title><p><b>RoboMaster</b> is an annual <i>intercollegiate robot competition</i> held in Shenzhen, Guangdong, China. First started in 2015, it is the brainchild of DJI's founder...\"}\"\"\""
   ]
  },
  {
   "cell_type": "code",
   "execution_count": 2,
   "metadata": {},
   "outputs": [
    {
     "name": "stdout",
     "output_type": "stream",
     "text": [
      "{\"results\":[{\"title\":\"RoboMaster Robotics Competition\",\"url\":\"https://www.robomaster.com/en-US\",\"content\":\"RoboMaster is an annual robotics competition for teams of aspiring engineers to design and build next-generation robots for completing difficult tasks and... \",\"raw_content\":\"<title>RoboMaster | Robotic Competition</title><meta content=\"RoboMaster is an annual robotics competition for teams of aspiring engineers to design and build next-generation robots for completing difficult tasks and ...\"},{\"title\":\"RoboMaster Robotics Competition | Overview\",\"url\":\"https://www.robomaster.com/en-US/robo/overview\",\"content\":\"The RoboMaster University Championship (RMUC), which is the first PVP live-firing robotics competition in the world, was founded and organized by DJI. Since its... \",\"raw_content\":\"<title>RoboMaster Robotics Competition | Overview</title><meta content=\"The RoboMaster University Championship (RMUC), which is the first PVP live-firing robotics competition in the world, was founded and organized by DJI. Since its ...\"},{\"title\":\"RoboMaster - Wikipedia\",\"url\":\"https://en.wikipedia.org/wiki/RoboMaster\",\"content\":\"RoboMaster is an annual intercollegiate robot competition held in Shenzhen, Guangdong, China. First started in 2015, it is the brainchild of DJI's founder... \",\"raw_content\":\"<title>RoboMaster - Wikipedia</title><p><b>RoboMaster</b> is an annual <i>intercollegiate robot competition</i> held in Shenzhen, Guangdong, China. First started in 2015, it is the brainchild of DJI's founder...\"}\n"
     ]
    }
   ],
   "source": [
    "start_index = content.find(\"{\")\n",
    "strip_content = content[start_index:] if start_index != -1 else content\n",
    "end_index = strip_content.rfind(\"}\")\n",
    "strip_content = strip_content[:end_index+1] if end_index != -1 else strip_content\n",
    "print(strip_content)"
   ]
  },
  {
   "cell_type": "code",
   "execution_count": 3,
   "metadata": {},
   "outputs": [
    {
     "data": {
      "text/plain": [
       "str"
      ]
     },
     "execution_count": 3,
     "metadata": {},
     "output_type": "execute_result"
    }
   ],
   "source": [
    "type(strip_content)"
   ]
  },
  {
   "cell_type": "code",
   "execution_count": 4,
   "metadata": {},
   "outputs": [
    {
     "name": "stdout",
     "output_type": "stream",
     "text": [
      "Error decoding JSON: Expecting ',' delimiter: line 1 column 345 (char 344)\n"
     ]
    }
   ],
   "source": [
    "import json\n",
    "\n",
    "try:\n",
    "    response_dict = json.loads(strip_content)\n",
    "except json.JSONDecodeError as e:\n",
    "    print(\"Error decoding JSON:\", e)"
   ]
  },
  {
   "cell_type": "code",
   "execution_count": 5,
   "metadata": {},
   "outputs": [
    {
     "ename": "NameError",
     "evalue": "name 'response_dict' is not defined",
     "output_type": "error",
     "traceback": [
      "\u001b[0;31m---------------------------------------------------------------------------\u001b[0m",
      "\u001b[0;31mNameError\u001b[0m                                 Traceback (most recent call last)",
      "Cell \u001b[0;32mIn[5], line 1\u001b[0m\n\u001b[0;32m----> 1\u001b[0m \u001b[43mresponse_dict\u001b[49m\n",
      "\u001b[0;31mNameError\u001b[0m: name 'response_dict' is not defined"
     ]
    }
   ],
   "source": [
    "response_dict"
   ]
  }
 ],
 "metadata": {
  "kernelspec": {
   "display_name": "Agno",
   "language": "python",
   "name": "python3"
  },
  "language_info": {
   "codemirror_mode": {
    "name": "ipython",
    "version": 3
   },
   "file_extension": ".py",
   "mimetype": "text/x-python",
   "name": "python",
   "nbconvert_exporter": "python",
   "pygments_lexer": "ipython3",
   "version": "3.11.11"
  }
 },
 "nbformat": 4,
 "nbformat_minor": 2
}
